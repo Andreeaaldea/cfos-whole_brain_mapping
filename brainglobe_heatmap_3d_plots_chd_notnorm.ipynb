{
 "cells": [
  {
   "cell_type": "code",
   "execution_count": 14,
   "metadata": {},
   "outputs": [],
   "source": [
    "import numpy as np\n",
    "import tifffile\n",
    "from brainglobe_heatmap_3d import cohens_d_heatmap_from_points\n",
    "\n",
    "# 1. Load the standard atlas mask (the region mask)\n",
    "atlas_mask = tifffile.imread(r\"Y:\\public\\projects\\AnAl_20240405_Neuromod_PE\\code\\New folder\\annotation_10.tiff\")\n",
    "# 2. Define image resolution and shape\n",
    "# If brainmapper registration = True cell coordinates are (should be?) in atlas space\n",
    "image_resolution = 10  # microns per voxel\n",
    "# Use the atlas mask shape as your image_shape:\n",
    "image_shape = atlas_mask.shape"
   ]
  },
  {
   "cell_type": "markdown",
   "metadata": {},
   "source": [
    "3. Load cell coordinates for each animal for the two groups.\n",
    "These should be NumPy arrays saved by brainmapper (or loaded from an HDF/CSV file)."
   ]
  },
  {
   "cell_type": "code",
   "execution_count": 9,
   "metadata": {},
   "outputs": [
    {
     "name": "stdout",
     "output_type": "stream",
     "text": [
      "Group1 Animal 1 points shape: (1516321, 3)\n",
      "Group1 Animal 2 points shape: (1059345, 3)\n",
      "Group1 Animal 3 points shape: (1694993, 3)\n",
      "Group1 Animal 4 points shape: (1188250, 3)\n",
      "Group1 Animal 5 points shape: (1505433, 3)\n"
     ]
    }
   ],
   "source": [
    "group1_points_list = [\n",
    "    np.load(r\"Y:\\public\\projects\\AnAl_20240405_Neuromod_PE\\brainsaw\\PE_mapping\\PE\\block2\\026\\brainreg_gr_4\\points\\points.npy\"),\n",
    "    np.load(r\"Y:\\public\\projects\\AnAl_20240405_Neuromod_PE\\brainsaw\\PE_mapping\\PE\\block2\\833\\brainreg_gr_3\\points\\points.npy\"),\n",
    "    np.load(r\"Y:\\public\\projects\\AnAl_20240405_Neuromod_PE\\brainsaw\\PE_mapping\\PE\\block2\\987\\brainreg_1\\points\\points.npy\"),\n",
    "    np.load(r\"Y:\\public\\projects\\AnAl_20240405_Neuromod_PE\\brainsaw\\PE_mapping\\PE\\block2\\cFos61\\brainreg_trained_trained_74model_changedparam_4\\points\\points.npy\"),\n",
    "    np.load(r\"Y:\\public\\projects\\AnAl_20240405_Neuromod_PE\\brainsaw\\PE_mapping\\PE\\block2\\cFos74\\brainreg_trained_BB_10\\points\\points.npy\"),\n",
    "]\n",
    "\n",
    "\n",
    "for i, points in enumerate(group1_points_list):\n",
    "    print(f\"Group1 Animal {i+1} points shape: {points.shape if points is not None else 'None'}\")\n"
   ]
  },
  {
   "cell_type": "code",
   "execution_count": 15,
   "metadata": {},
   "outputs": [],
   "source": [
    "group1_points_list = [\n",
    "    np.load(r\"Y:\\public\\projects\\AnAl_20240405_Neuromod_PE\\brainsaw\\PE_mapping\\PE\\block2\\026\\brainreg_gr_4\\points\\points.npy\")]"
   ]
  },
  {
   "cell_type": "code",
   "execution_count": 10,
   "metadata": {},
   "outputs": [
    {
     "name": "stdout",
     "output_type": "stream",
     "text": [
      "Group2 Animal 1 points shape: (48378, 3)\n",
      "Group2 Animal 2 points shape: (340799, 3)\n",
      "Group2 Animal 3 points shape: (1082269, 3)\n",
      "Group2 Animal 4 points shape: (533735, 3)\n"
     ]
    }
   ],
   "source": [
    "group2_points_list = [\n",
    "    np.load(r\"Y:\\public\\projects\\AnAl_20240405_Neuromod_PE\\brainsaw\\PE_mapping\\Control\\834\\brainreg_gr_mixed_4\\points\\points.npy\"),\n",
    "    np.load(r\"Y:\\public\\projects\\AnAl_20240405_Neuromod_PE\\brainsaw\\PE_mapping\\Control\\838\\brainreg_gr_4\\points\\points.npy\"),\n",
    "    np.load(r\"Y:\\public\\projects\\AnAl_20240405_Neuromod_PE\\brainsaw\\PE_mapping\\Control\\981\\brainreg_3\\points\\points.npy\"),\n",
    "    np.load(r\"Y:\\public\\projects\\AnAl_20240405_Neuromod_PE\\brainsaw\\PE_mapping\\Control\\cFos60\\brainreg_trained_after74_6\\points\\points.npy\")\n",
    "]\n",
    "\n",
    "for i, points in enumerate(group2_points_list):\n",
    "    print(f\"Group2 Animal {i+1} points shape: {points.shape if points is not None else 'None'}\")\n"
   ]
  },
  {
   "cell_type": "markdown",
   "metadata": {},
   "source": [
    "4. Call the Cohen's d heatmap function"
   ]
  },
  {
   "cell_type": "code",
   "execution_count": null,
   "metadata": {},
   "outputs": [],
   "source": [
    "cohens_d_map = cohens_d_heatmap_from_points(\n",
    "    group1_points_list=group1_points_list,\n",
    "    group2_points_list=group2_points_list,\n",
    "    image_resolution=image_resolution,\n",
    "    image_shape=image_shape,\n",
    "    region_mask=atlas_mask,\n",
    "    smoothing=50,  # smoothing factor in microns \n",
    "    output_filename=r\"Y:\\public\\projects\\AnAl_20240405_Neuromod_PE\\brainsaw\\PE_mapping\\figures\\cohens_d_heatmap_notnorm.tiff\"\n",
    ")"
   ]
  },
  {
   "cell_type": "code",
   "execution_count": null,
   "metadata": {},
   "outputs": [],
   "source": []
  }
 ],
 "metadata": {
  "kernelspec": {
   "display_name": "brainglobe-test",
   "language": "python",
   "name": "python3"
  },
  "language_info": {
   "codemirror_mode": {
    "name": "ipython",
    "version": 3
   },
   "file_extension": ".py",
   "mimetype": "text/x-python",
   "name": "python",
   "nbconvert_exporter": "python",
   "pygments_lexer": "ipython3",
   "version": "3.12.4"
  }
 },
 "nbformat": 4,
 "nbformat_minor": 2
}
