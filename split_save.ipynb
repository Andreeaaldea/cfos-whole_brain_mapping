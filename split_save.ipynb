{
 "cells": [
  {
   "cell_type": "code",
   "execution_count": null,
   "id": "de2dbbcb",
   "metadata": {},
   "outputs": [],
   "source": [
    "import split_animals_into_sheets\n",
    "\n",
    "\n",
    "split_animals_into_sheets(\n",
    "    wide_csv_path=\"Y:\\public\\projects\\AnAl_20240405_Neuromod_PE\\PE_mapping\\processed_data\\WIDE_by_mouse_with_meta.csv\",\n",
    "    out_xlsx_path=\"Y:\\public\\projects\\AnAl_20240405_Neuromod_PE\\PE_mapping\\processed_data\\per_mouse_sheets.xlsx\"\n",
    ")\n"
   ]
  }
 ],
 "metadata": {
  "language_info": {
   "name": "python"
  }
 },
 "nbformat": 4,
 "nbformat_minor": 5
}
