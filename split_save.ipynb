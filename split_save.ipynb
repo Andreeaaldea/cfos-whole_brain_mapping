{
 "cells": [
  {
   "cell_type": "code",
   "execution_count": 1,
   "id": "de2dbbcb",
   "metadata": {},
   "outputs": [
    {
     "name": "stderr",
     "output_type": "stream",
     "text": [
      "<>:5: SyntaxWarning: invalid escape sequence '\\p'\n",
      "<>:6: SyntaxWarning: invalid escape sequence '\\p'\n",
      "<>:5: SyntaxWarning: invalid escape sequence '\\p'\n",
      "<>:6: SyntaxWarning: invalid escape sequence '\\p'\n",
      "C:\\Users\\mfglab\\AppData\\Local\\Temp\\ipykernel_23824\\828823526.py:5: SyntaxWarning: invalid escape sequence '\\p'\n",
      "  wide_csv_path=\"Y:\\public\\projects\\AnAl_20240405_Neuromod_PE\\PE_mapping\\processed_data\\WIDE_by_mouse_with_meta.csv\",\n",
      "C:\\Users\\mfglab\\AppData\\Local\\Temp\\ipykernel_23824\\828823526.py:6: SyntaxWarning: invalid escape sequence '\\p'\n",
      "  out_xlsx_path=\"Y:\\public\\projects\\AnAl_20240405_Neuromod_PE\\PE_mapping\\processed_data\\per_mouse_sheets.xlsx\"\n"
     ]
    },
    {
     "name": "stdout",
     "output_type": "stream",
     "text": [
      "Created Excel with 16 sheets at: Y:\\public\\projects\\AnAl_20240405_Neuromod_PE\\PE_mapping\\processed_data\\per_mouse_sheets.xlsx\n"
     ]
    }
   ],
   "source": [
    "from split_animals_into_sheets import wide_to_excel_per_mouse\n",
    "\n",
    "\n",
    "wide_to_excel_per_mouse(\n",
    "    wide_csv_path=\"Y:\\public\\projects\\AnAl_20240405_Neuromod_PE\\PE_mapping\\processed_data\\WIDE_by_mouse_with_meta.csv\",\n",
    "    out_xlsx_path=\"Y:\\public\\projects\\AnAl_20240405_Neuromod_PE\\PE_mapping\\processed_data\\per_mouse_sheets.xlsx\"\n",
    ")\n"
   ]
  },
  {
   "cell_type": "code",
   "execution_count": null,
   "id": "015fdeeb",
   "metadata": {},
   "outputs": [],
   "source": [
    "python plot_top_effects.py \"Y:\\public\\projects\\AnAl_20240405_Neuromod_PE\\PE_mapping\\processed_data\\ES_plots\\effect_sizes_PE_vs_CT_by_hemi.xlsx\" \"Y:\\public\\projects\\AnAl_20240405_Neuromod_PE\\PE_mapping\\processed_data\\ES_plots\\ES_plots\" --top 40\n"
   ]
  }
 ],
 "metadata": {
  "kernelspec": {
   "display_name": "napari-env",
   "language": "python",
   "name": "python3"
  },
  "language_info": {
   "codemirror_mode": {
    "name": "ipython",
    "version": 3
   },
   "file_extension": ".py",
   "mimetype": "text/x-python",
   "name": "python",
   "nbconvert_exporter": "python",
   "pygments_lexer": "ipython3",
   "version": "3.12.7"
  }
 },
 "nbformat": 4,
 "nbformat_minor": 5
}
